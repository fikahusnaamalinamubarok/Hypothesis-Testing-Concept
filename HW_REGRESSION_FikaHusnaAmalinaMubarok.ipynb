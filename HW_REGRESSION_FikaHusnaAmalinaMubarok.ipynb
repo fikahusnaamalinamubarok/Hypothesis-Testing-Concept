{
  "nbformat": 4,
  "nbformat_minor": 0,
  "metadata": {
    "colab": {
      "provenance": [],
      "collapsed_sections": [],
      "authorship_tag": "ABX9TyNfLxAb/xo2nVNdb2JWwu5U",
      "include_colab_link": true
    },
    "kernelspec": {
      "name": "python3",
      "display_name": "Python 3"
    },
    "language_info": {
      "name": "python"
    }
  },
  "cells": [
    {
      "cell_type": "markdown",
      "metadata": {
        "id": "view-in-github",
        "colab_type": "text"
      },
      "source": [
        "<a href=\"https://colab.research.google.com/github/fikahusnaamalinamubarok/Hypothesis-Testing-Concept/blob/main/HW_REGRESSION_FikaHusnaAmalinaMubarok.ipynb\" target=\"_parent\"><img src=\"https://colab.research.google.com/assets/colab-badge.svg\" alt=\"Open In Colab\"/></a>"
      ]
    },
    {
      "cell_type": "code",
      "source": [
        "from google.colab import drive\n",
        "drive.mount('/content/drive')"
      ],
      "metadata": {
        "colab": {
          "base_uri": "https://localhost:8080/"
        },
        "id": "IglfkKM0bT1z",
        "outputId": "c5fb2ff6-d6c3-4631-e6bc-3610ae89d8f6"
      },
      "execution_count": null,
      "outputs": [
        {
          "output_type": "stream",
          "name": "stdout",
          "text": [
            "Mounted at /content/drive\n"
          ]
        }
      ]
    },
    {
      "cell_type": "markdown",
      "source": [
        "###Import Libraries\n"
      ],
      "metadata": {
        "id": "AoDWo8npZ8Sa"
      }
    },
    {
      "cell_type": "code",
      "execution_count": null,
      "metadata": {
        "id": "xHTKXWGIZr92"
      },
      "outputs": [],
      "source": [
        "import numpy as np\n",
        "import pandas as pd\n",
        "import seaborn as sns\n",
        "import matplotlib.pyplot as plt"
      ]
    },
    {
      "cell_type": "markdown",
      "source": [
        "##Load Data"
      ],
      "metadata": {
        "id": "Vt1cJUDmaCAf"
      }
    },
    {
      "cell_type": "code",
      "source": [
        "# load data\n",
        "medv = pd.read_csv('/content/drive/MyDrive/boston.csv')\n",
        "medv.head()"
      ],
      "metadata": {
        "colab": {
          "base_uri": "https://localhost:8080/",
          "height": 206
        },
        "id": "UirAGtC7aEZy",
        "outputId": "adfb35ec-6f49-4ac2-f73e-c0b90a350268"
      },
      "execution_count": null,
      "outputs": [
        {
          "output_type": "execute_result",
          "data": {
            "text/plain": [
              "      crim    zn  indus  chas    nox     rm   age     dis  rad  tax  ptratio  \\\n",
              "0  0.00632  18.0   2.31     0  0.538  6.575  65.2  4.0900    1  296     15.3   \n",
              "1  0.02731   0.0   7.07     0  0.469  6.421  78.9  4.9671    2  242     17.8   \n",
              "2  0.02729   0.0   7.07     0  0.469  7.185  61.1  4.9671    2  242     17.8   \n",
              "3  0.03237   0.0   2.18     0  0.458  6.998  45.8  6.0622    3  222     18.7   \n",
              "4  0.06905   0.0   2.18     0  0.458  7.147  54.2  6.0622    3  222     18.7   \n",
              "\n",
              "    black  lstat  medv  \n",
              "0  396.90   4.98  24.0  \n",
              "1  396.90   9.14  21.6  \n",
              "2  392.83   4.03  34.7  \n",
              "3  394.63   2.94  33.4  \n",
              "4  396.90   5.33  36.2  "
            ],
            "text/html": [
              "\n",
              "  <div id=\"df-905d9939-0014-4940-807d-aadb69adbb0f\">\n",
              "    <div class=\"colab-df-container\">\n",
              "      <div>\n",
              "<style scoped>\n",
              "    .dataframe tbody tr th:only-of-type {\n",
              "        vertical-align: middle;\n",
              "    }\n",
              "\n",
              "    .dataframe tbody tr th {\n",
              "        vertical-align: top;\n",
              "    }\n",
              "\n",
              "    .dataframe thead th {\n",
              "        text-align: right;\n",
              "    }\n",
              "</style>\n",
              "<table border=\"1\" class=\"dataframe\">\n",
              "  <thead>\n",
              "    <tr style=\"text-align: right;\">\n",
              "      <th></th>\n",
              "      <th>crim</th>\n",
              "      <th>zn</th>\n",
              "      <th>indus</th>\n",
              "      <th>chas</th>\n",
              "      <th>nox</th>\n",
              "      <th>rm</th>\n",
              "      <th>age</th>\n",
              "      <th>dis</th>\n",
              "      <th>rad</th>\n",
              "      <th>tax</th>\n",
              "      <th>ptratio</th>\n",
              "      <th>black</th>\n",
              "      <th>lstat</th>\n",
              "      <th>medv</th>\n",
              "    </tr>\n",
              "  </thead>\n",
              "  <tbody>\n",
              "    <tr>\n",
              "      <th>0</th>\n",
              "      <td>0.00632</td>\n",
              "      <td>18.0</td>\n",
              "      <td>2.31</td>\n",
              "      <td>0</td>\n",
              "      <td>0.538</td>\n",
              "      <td>6.575</td>\n",
              "      <td>65.2</td>\n",
              "      <td>4.0900</td>\n",
              "      <td>1</td>\n",
              "      <td>296</td>\n",
              "      <td>15.3</td>\n",
              "      <td>396.90</td>\n",
              "      <td>4.98</td>\n",
              "      <td>24.0</td>\n",
              "    </tr>\n",
              "    <tr>\n",
              "      <th>1</th>\n",
              "      <td>0.02731</td>\n",
              "      <td>0.0</td>\n",
              "      <td>7.07</td>\n",
              "      <td>0</td>\n",
              "      <td>0.469</td>\n",
              "      <td>6.421</td>\n",
              "      <td>78.9</td>\n",
              "      <td>4.9671</td>\n",
              "      <td>2</td>\n",
              "      <td>242</td>\n",
              "      <td>17.8</td>\n",
              "      <td>396.90</td>\n",
              "      <td>9.14</td>\n",
              "      <td>21.6</td>\n",
              "    </tr>\n",
              "    <tr>\n",
              "      <th>2</th>\n",
              "      <td>0.02729</td>\n",
              "      <td>0.0</td>\n",
              "      <td>7.07</td>\n",
              "      <td>0</td>\n",
              "      <td>0.469</td>\n",
              "      <td>7.185</td>\n",
              "      <td>61.1</td>\n",
              "      <td>4.9671</td>\n",
              "      <td>2</td>\n",
              "      <td>242</td>\n",
              "      <td>17.8</td>\n",
              "      <td>392.83</td>\n",
              "      <td>4.03</td>\n",
              "      <td>34.7</td>\n",
              "    </tr>\n",
              "    <tr>\n",
              "      <th>3</th>\n",
              "      <td>0.03237</td>\n",
              "      <td>0.0</td>\n",
              "      <td>2.18</td>\n",
              "      <td>0</td>\n",
              "      <td>0.458</td>\n",
              "      <td>6.998</td>\n",
              "      <td>45.8</td>\n",
              "      <td>6.0622</td>\n",
              "      <td>3</td>\n",
              "      <td>222</td>\n",
              "      <td>18.7</td>\n",
              "      <td>394.63</td>\n",
              "      <td>2.94</td>\n",
              "      <td>33.4</td>\n",
              "    </tr>\n",
              "    <tr>\n",
              "      <th>4</th>\n",
              "      <td>0.06905</td>\n",
              "      <td>0.0</td>\n",
              "      <td>2.18</td>\n",
              "      <td>0</td>\n",
              "      <td>0.458</td>\n",
              "      <td>7.147</td>\n",
              "      <td>54.2</td>\n",
              "      <td>6.0622</td>\n",
              "      <td>3</td>\n",
              "      <td>222</td>\n",
              "      <td>18.7</td>\n",
              "      <td>396.90</td>\n",
              "      <td>5.33</td>\n",
              "      <td>36.2</td>\n",
              "    </tr>\n",
              "  </tbody>\n",
              "</table>\n",
              "</div>\n",
              "      <button class=\"colab-df-convert\" onclick=\"convertToInteractive('df-905d9939-0014-4940-807d-aadb69adbb0f')\"\n",
              "              title=\"Convert this dataframe to an interactive table.\"\n",
              "              style=\"display:none;\">\n",
              "        \n",
              "  <svg xmlns=\"http://www.w3.org/2000/svg\" height=\"24px\"viewBox=\"0 0 24 24\"\n",
              "       width=\"24px\">\n",
              "    <path d=\"M0 0h24v24H0V0z\" fill=\"none\"/>\n",
              "    <path d=\"M18.56 5.44l.94 2.06.94-2.06 2.06-.94-2.06-.94-.94-2.06-.94 2.06-2.06.94zm-11 1L8.5 8.5l.94-2.06 2.06-.94-2.06-.94L8.5 2.5l-.94 2.06-2.06.94zm10 10l.94 2.06.94-2.06 2.06-.94-2.06-.94-.94-2.06-.94 2.06-2.06.94z\"/><path d=\"M17.41 7.96l-1.37-1.37c-.4-.4-.92-.59-1.43-.59-.52 0-1.04.2-1.43.59L10.3 9.45l-7.72 7.72c-.78.78-.78 2.05 0 2.83L4 21.41c.39.39.9.59 1.41.59.51 0 1.02-.2 1.41-.59l7.78-7.78 2.81-2.81c.8-.78.8-2.07 0-2.86zM5.41 20L4 18.59l7.72-7.72 1.47 1.35L5.41 20z\"/>\n",
              "  </svg>\n",
              "      </button>\n",
              "      \n",
              "  <style>\n",
              "    .colab-df-container {\n",
              "      display:flex;\n",
              "      flex-wrap:wrap;\n",
              "      gap: 12px;\n",
              "    }\n",
              "\n",
              "    .colab-df-convert {\n",
              "      background-color: #E8F0FE;\n",
              "      border: none;\n",
              "      border-radius: 50%;\n",
              "      cursor: pointer;\n",
              "      display: none;\n",
              "      fill: #1967D2;\n",
              "      height: 32px;\n",
              "      padding: 0 0 0 0;\n",
              "      width: 32px;\n",
              "    }\n",
              "\n",
              "    .colab-df-convert:hover {\n",
              "      background-color: #E2EBFA;\n",
              "      box-shadow: 0px 1px 2px rgba(60, 64, 67, 0.3), 0px 1px 3px 1px rgba(60, 64, 67, 0.15);\n",
              "      fill: #174EA6;\n",
              "    }\n",
              "\n",
              "    [theme=dark] .colab-df-convert {\n",
              "      background-color: #3B4455;\n",
              "      fill: #D2E3FC;\n",
              "    }\n",
              "\n",
              "    [theme=dark] .colab-df-convert:hover {\n",
              "      background-color: #434B5C;\n",
              "      box-shadow: 0px 1px 3px 1px rgba(0, 0, 0, 0.15);\n",
              "      filter: drop-shadow(0px 1px 2px rgba(0, 0, 0, 0.3));\n",
              "      fill: #FFFFFF;\n",
              "    }\n",
              "  </style>\n",
              "\n",
              "      <script>\n",
              "        const buttonEl =\n",
              "          document.querySelector('#df-905d9939-0014-4940-807d-aadb69adbb0f button.colab-df-convert');\n",
              "        buttonEl.style.display =\n",
              "          google.colab.kernel.accessAllowed ? 'block' : 'none';\n",
              "\n",
              "        async function convertToInteractive(key) {\n",
              "          const element = document.querySelector('#df-905d9939-0014-4940-807d-aadb69adbb0f');\n",
              "          const dataTable =\n",
              "            await google.colab.kernel.invokeFunction('convertToInteractive',\n",
              "                                                     [key], {});\n",
              "          if (!dataTable) return;\n",
              "\n",
              "          const docLinkHtml = 'Like what you see? Visit the ' +\n",
              "            '<a target=\"_blank\" href=https://colab.research.google.com/notebooks/data_table.ipynb>data table notebook</a>'\n",
              "            + ' to learn more about interactive tables.';\n",
              "          element.innerHTML = '';\n",
              "          dataTable['output_type'] = 'display_data';\n",
              "          await google.colab.output.renderOutput(dataTable, element);\n",
              "          const docLink = document.createElement('div');\n",
              "          docLink.innerHTML = docLinkHtml;\n",
              "          element.appendChild(docLink);\n",
              "        }\n",
              "      </script>\n",
              "    </div>\n",
              "  </div>\n",
              "  "
            ]
          },
          "metadata": {},
          "execution_count": 4
        }
      ]
    },
    {
      "cell_type": "markdown",
      "source": [
        "###1. Split Data-Validation-test\n"
      ],
      "metadata": {
        "id": "OERLMxY7cHjj"
      }
    },
    {
      "cell_type": "code",
      "source": [
        "# split train test\n",
        "from sklearn.model_selection import train_test_split\n",
        "\n",
        "feature = medv.drop(columns='medv')\n",
        "target = medv[['medv']]\n",
        "\n",
        "feature_medv_pretrain, feature_medv_test, target_medv_pretrain, target_medv_test = train_test_split(feature, target, test_size=0.20, random_state=42)\n",
        "\n",
        "feature_medv_train, feature_medv_validation, target_medv_train, target_medv_validation = train_test_split(feature_medv_pretrain, target_medv_pretrain, test_size=0.20, random_state=42)"
      ],
      "metadata": {
        "id": "NwXaGyDwQ7so"
      },
      "execution_count": null,
      "outputs": []
    },
    {
      "cell_type": "markdown",
      "source": [
        "##2. Multicollinearity Check & draw correlation plot & highly correlated features selection"
      ],
      "metadata": {
        "id": "Lyz1RI4n4Qy1"
      }
    },
    {
      "cell_type": "code",
      "source": [
        "# calculate VIF scores ( check )\n",
        "from statsmodels.stats.outliers_influence import variance_inflation_factor as vif \n",
        "from statsmodels.tools.tools import add_constant\n",
        "\n",
        "X = add_constant(feature_medv_pretrain)\n",
        "\n",
        "vif_df = pd.DataFrame([vif(X.values, i) \n",
        "               for i in range(X.shape[1])], \n",
        "              index=X.columns).reset_index()\n",
        "vif_df.columns = ['feature','vif_score']\n",
        "vif_df = vif_df.loc[vif_df.feature!='const']\n",
        "vif_df"
      ],
      "metadata": {
        "colab": {
          "base_uri": "https://localhost:8080/",
          "height": 546
        },
        "id": "NKlBFLKKedhb",
        "outputId": "f02ea73e-7c81-40cf-f544-c51c193443cb"
      },
      "execution_count": null,
      "outputs": [
        {
          "output_type": "stream",
          "name": "stderr",
          "text": [
            "/usr/local/lib/python3.7/dist-packages/statsmodels/tools/_testing.py:19: FutureWarning: pandas.util.testing is deprecated. Use the functions in the public API at pandas.testing instead.\n",
            "  import pandas.util.testing as tm\n",
            "/usr/local/lib/python3.7/dist-packages/statsmodels/tsa/tsatools.py:117: FutureWarning: In a future version of pandas all arguments of concat except for the argument 'objs' will be keyword-only\n",
            "  x = pd.concat(x[::order], 1)\n"
          ]
        },
        {
          "output_type": "execute_result",
          "data": {
            "text/plain": [
              "    feature  vif_score\n",
              "1      crim   1.713187\n",
              "2        zn   2.465631\n",
              "3     indus   3.877855\n",
              "4      chas   1.096674\n",
              "5       nox   4.469150\n",
              "6        rm   1.947809\n",
              "7       age   2.989948\n",
              "8       dis   4.168578\n",
              "9       rad   7.658316\n",
              "10      tax   8.943301\n",
              "11  ptratio   1.851448\n",
              "12    black   1.325121\n",
              "13    lstat   2.818045"
            ],
            "text/html": [
              "\n",
              "  <div id=\"df-a34baa79-2aab-4bb5-a065-5473de1cb5e0\">\n",
              "    <div class=\"colab-df-container\">\n",
              "      <div>\n",
              "<style scoped>\n",
              "    .dataframe tbody tr th:only-of-type {\n",
              "        vertical-align: middle;\n",
              "    }\n",
              "\n",
              "    .dataframe tbody tr th {\n",
              "        vertical-align: top;\n",
              "    }\n",
              "\n",
              "    .dataframe thead th {\n",
              "        text-align: right;\n",
              "    }\n",
              "</style>\n",
              "<table border=\"1\" class=\"dataframe\">\n",
              "  <thead>\n",
              "    <tr style=\"text-align: right;\">\n",
              "      <th></th>\n",
              "      <th>feature</th>\n",
              "      <th>vif_score</th>\n",
              "    </tr>\n",
              "  </thead>\n",
              "  <tbody>\n",
              "    <tr>\n",
              "      <th>1</th>\n",
              "      <td>crim</td>\n",
              "      <td>1.713187</td>\n",
              "    </tr>\n",
              "    <tr>\n",
              "      <th>2</th>\n",
              "      <td>zn</td>\n",
              "      <td>2.465631</td>\n",
              "    </tr>\n",
              "    <tr>\n",
              "      <th>3</th>\n",
              "      <td>indus</td>\n",
              "      <td>3.877855</td>\n",
              "    </tr>\n",
              "    <tr>\n",
              "      <th>4</th>\n",
              "      <td>chas</td>\n",
              "      <td>1.096674</td>\n",
              "    </tr>\n",
              "    <tr>\n",
              "      <th>5</th>\n",
              "      <td>nox</td>\n",
              "      <td>4.469150</td>\n",
              "    </tr>\n",
              "    <tr>\n",
              "      <th>6</th>\n",
              "      <td>rm</td>\n",
              "      <td>1.947809</td>\n",
              "    </tr>\n",
              "    <tr>\n",
              "      <th>7</th>\n",
              "      <td>age</td>\n",
              "      <td>2.989948</td>\n",
              "    </tr>\n",
              "    <tr>\n",
              "      <th>8</th>\n",
              "      <td>dis</td>\n",
              "      <td>4.168578</td>\n",
              "    </tr>\n",
              "    <tr>\n",
              "      <th>9</th>\n",
              "      <td>rad</td>\n",
              "      <td>7.658316</td>\n",
              "    </tr>\n",
              "    <tr>\n",
              "      <th>10</th>\n",
              "      <td>tax</td>\n",
              "      <td>8.943301</td>\n",
              "    </tr>\n",
              "    <tr>\n",
              "      <th>11</th>\n",
              "      <td>ptratio</td>\n",
              "      <td>1.851448</td>\n",
              "    </tr>\n",
              "    <tr>\n",
              "      <th>12</th>\n",
              "      <td>black</td>\n",
              "      <td>1.325121</td>\n",
              "    </tr>\n",
              "    <tr>\n",
              "      <th>13</th>\n",
              "      <td>lstat</td>\n",
              "      <td>2.818045</td>\n",
              "    </tr>\n",
              "  </tbody>\n",
              "</table>\n",
              "</div>\n",
              "      <button class=\"colab-df-convert\" onclick=\"convertToInteractive('df-a34baa79-2aab-4bb5-a065-5473de1cb5e0')\"\n",
              "              title=\"Convert this dataframe to an interactive table.\"\n",
              "              style=\"display:none;\">\n",
              "        \n",
              "  <svg xmlns=\"http://www.w3.org/2000/svg\" height=\"24px\"viewBox=\"0 0 24 24\"\n",
              "       width=\"24px\">\n",
              "    <path d=\"M0 0h24v24H0V0z\" fill=\"none\"/>\n",
              "    <path d=\"M18.56 5.44l.94 2.06.94-2.06 2.06-.94-2.06-.94-.94-2.06-.94 2.06-2.06.94zm-11 1L8.5 8.5l.94-2.06 2.06-.94-2.06-.94L8.5 2.5l-.94 2.06-2.06.94zm10 10l.94 2.06.94-2.06 2.06-.94-2.06-.94-.94-2.06-.94 2.06-2.06.94z\"/><path d=\"M17.41 7.96l-1.37-1.37c-.4-.4-.92-.59-1.43-.59-.52 0-1.04.2-1.43.59L10.3 9.45l-7.72 7.72c-.78.78-.78 2.05 0 2.83L4 21.41c.39.39.9.59 1.41.59.51 0 1.02-.2 1.41-.59l7.78-7.78 2.81-2.81c.8-.78.8-2.07 0-2.86zM5.41 20L4 18.59l7.72-7.72 1.47 1.35L5.41 20z\"/>\n",
              "  </svg>\n",
              "      </button>\n",
              "      \n",
              "  <style>\n",
              "    .colab-df-container {\n",
              "      display:flex;\n",
              "      flex-wrap:wrap;\n",
              "      gap: 12px;\n",
              "    }\n",
              "\n",
              "    .colab-df-convert {\n",
              "      background-color: #E8F0FE;\n",
              "      border: none;\n",
              "      border-radius: 50%;\n",
              "      cursor: pointer;\n",
              "      display: none;\n",
              "      fill: #1967D2;\n",
              "      height: 32px;\n",
              "      padding: 0 0 0 0;\n",
              "      width: 32px;\n",
              "    }\n",
              "\n",
              "    .colab-df-convert:hover {\n",
              "      background-color: #E2EBFA;\n",
              "      box-shadow: 0px 1px 2px rgba(60, 64, 67, 0.3), 0px 1px 3px 1px rgba(60, 64, 67, 0.15);\n",
              "      fill: #174EA6;\n",
              "    }\n",
              "\n",
              "    [theme=dark] .colab-df-convert {\n",
              "      background-color: #3B4455;\n",
              "      fill: #D2E3FC;\n",
              "    }\n",
              "\n",
              "    [theme=dark] .colab-df-convert:hover {\n",
              "      background-color: #434B5C;\n",
              "      box-shadow: 0px 1px 3px 1px rgba(0, 0, 0, 0.15);\n",
              "      filter: drop-shadow(0px 1px 2px rgba(0, 0, 0, 0.3));\n",
              "      fill: #FFFFFF;\n",
              "    }\n",
              "  </style>\n",
              "\n",
              "      <script>\n",
              "        const buttonEl =\n",
              "          document.querySelector('#df-a34baa79-2aab-4bb5-a065-5473de1cb5e0 button.colab-df-convert');\n",
              "        buttonEl.style.display =\n",
              "          google.colab.kernel.accessAllowed ? 'block' : 'none';\n",
              "\n",
              "        async function convertToInteractive(key) {\n",
              "          const element = document.querySelector('#df-a34baa79-2aab-4bb5-a065-5473de1cb5e0');\n",
              "          const dataTable =\n",
              "            await google.colab.kernel.invokeFunction('convertToInteractive',\n",
              "                                                     [key], {});\n",
              "          if (!dataTable) return;\n",
              "\n",
              "          const docLinkHtml = 'Like what you see? Visit the ' +\n",
              "            '<a target=\"_blank\" href=https://colab.research.google.com/notebooks/data_table.ipynb>data table notebook</a>'\n",
              "            + ' to learn more about interactive tables.';\n",
              "          element.innerHTML = '';\n",
              "          dataTable['output_type'] = 'display_data';\n",
              "          await google.colab.output.renderOutput(dataTable, element);\n",
              "          const docLink = document.createElement('div');\n",
              "          docLink.innerHTML = docLinkHtml;\n",
              "          element.appendChild(docLink);\n",
              "        }\n",
              "      </script>\n",
              "    </div>\n",
              "  </div>\n",
              "  "
            ]
          },
          "metadata": {},
          "execution_count": 6
        }
      ]
    },
    {
      "cell_type": "code",
      "source": [
        "# heatmap correlation\n",
        "medv_train = pd.concat([feature_medv_pretrain, target_medv_pretrain], axis=1)\n",
        "corr = medv_train.corr()\n",
        "\n",
        "plt.figure(figsize=(10,7))\n",
        "sns.heatmap(corr, annot=True, fmt='.2f' )\n",
        "plt.show()"
      ],
      "metadata": {
        "colab": {
          "base_uri": "https://localhost:8080/",
          "height": 432
        },
        "id": "M_vBOgQVfvtF",
        "outputId": "6fb7c685-3f97-4475-f10a-06cd9437c2e3"
      },
      "execution_count": null,
      "outputs": [
        {
          "output_type": "display_data",
          "data": {
            "text/plain": [
              "<Figure size 720x504 with 2 Axes>"
            ],
            "image/png": "[encoded data removed]"
          },
          "metadata": {
            "needs_background": "light"
          }
        }
      ]
    },
    {
      "cell_type": "markdown",
      "source": [
        "We need to drop (rad):  because rad (-0.39 ) and tax (-0,46) on target medv. "
      ],
      "metadata": {
        "id": "_DXhICDc0CdQ"
      }
    },
    {
      "cell_type": "code",
      "source": [
        "feature_medv_pretrain = feature_medv_pretrain.drop(columns=['rad'])\n",
        "feature_medv_train = feature_medv_train.drop(columns=['rad'])\n",
        "feature_medv_validation = feature_medv_validation.drop(columns=['rad'])\n",
        "feature_medv_test = feature_medv_test.drop(columns=['rad'])"
      ],
      "metadata": {
        "id": "E1ny4duWzufd"
      },
      "execution_count": null,
      "outputs": []
    },
    {
      "cell_type": "markdown",
      "source": [
        "##Recheck VIF"
      ],
      "metadata": {
        "id": "owbEgJA70Hk5"
      }
    },
    {
      "cell_type": "code",
      "source": [
        "from statsmodels.stats.outliers_influence import variance_inflation_factor as vif \n",
        "from statsmodels.tools.tools import add_constant\n",
        "\n",
        "X = add_constant(feature_medv_pretrain)\n",
        "\n",
        "vif_df = pd.DataFrame([vif(X.values, i) \n",
        "               for i in range(X.shape[1])], \n",
        "              index=X.columns).reset_index()\n",
        "vif_df.columns = ['feature','vif_score']\n",
        "vif_df = vif_df.loc[vif_df.feature!='const']\n",
        "vif_df"
      ],
      "metadata": {
        "colab": {
          "base_uri": "https://localhost:8080/",
          "height": 480
        },
        "id": "QX_SuPsAz98z",
        "outputId": "12173023-db27-4f8c-a98f-a4d9a6204f07"
      },
      "execution_count": null,
      "outputs": [
        {
          "output_type": "stream",
          "name": "stderr",
          "text": [
            "/usr/local/lib/python3.7/dist-packages/statsmodels/tsa/tsatools.py:117: FutureWarning: In a future version of pandas all arguments of concat except for the argument 'objs' will be keyword-only\n",
            "  x = pd.concat(x[::order], 1)\n"
          ]
        },
        {
          "output_type": "execute_result",
          "data": {
            "text/plain": [
              "    feature  vif_score\n",
              "1      crim   1.593872\n",
              "2        zn   2.413664\n",
              "3     indus   3.658237\n",
              "4      chas   1.084671\n",
              "5       nox   4.411973\n",
              "6        rm   1.884987\n",
              "7       age   2.977080\n",
              "8       dis   4.166015\n",
              "9       tax   3.331299\n",
              "10  ptratio   1.776290\n",
              "11    black   1.318462\n",
              "12    lstat   2.807207"
            ],
            "text/html": [
              "\n",
              "  <div id=\"df-59a7ed2d-df09-4776-a269-2e27e1e14830\">\n",
              "    <div class=\"colab-df-container\">\n",
              "      <div>\n",
              "<style scoped>\n",
              "    .dataframe tbody tr th:only-of-type {\n",
              "        vertical-align: middle;\n",
              "    }\n",
              "\n",
              "    .dataframe tbody tr th {\n",
              "        vertical-align: top;\n",
              "    }\n",
              "\n",
              "    .dataframe thead th {\n",
              "        text-align: right;\n",
              "    }\n",
              "</style>\n",
              "<table border=\"1\" class=\"dataframe\">\n",
              "  <thead>\n",
              "    <tr style=\"text-align: right;\">\n",
              "      <th></th>\n",
              "      <th>feature</th>\n",
              "      <th>vif_score</th>\n",
              "    </tr>\n",
              "  </thead>\n",
              "  <tbody>\n",
              "    <tr>\n",
              "      <th>1</th>\n",
              "      <td>crim</td>\n",
              "      <td>1.593872</td>\n",
              "    </tr>\n",
              "    <tr>\n",
              "      <th>2</th>\n",
              "      <td>zn</td>\n",
              "      <td>2.413664</td>\n",
              "    </tr>\n",
              "    <tr>\n",
              "      <th>3</th>\n",
              "      <td>indus</td>\n",
              "      <td>3.658237</td>\n",
              "    </tr>\n",
              "    <tr>\n",
              "      <th>4</th>\n",
              "      <td>chas</td>\n",
              "      <td>1.084671</td>\n",
              "    </tr>\n",
              "    <tr>\n",
              "      <th>5</th>\n",
              "      <td>nox</td>\n",
              "      <td>4.411973</td>\n",
              "    </tr>\n",
              "    <tr>\n",
              "      <th>6</th>\n",
              "      <td>rm</td>\n",
              "      <td>1.884987</td>\n",
              "    </tr>\n",
              "    <tr>\n",
              "      <th>7</th>\n",
              "      <td>age</td>\n",
              "      <td>2.977080</td>\n",
              "    </tr>\n",
              "    <tr>\n",
              "      <th>8</th>\n",
              "      <td>dis</td>\n",
              "      <td>4.166015</td>\n",
              "    </tr>\n",
              "    <tr>\n",
              "      <th>9</th>\n",
              "      <td>tax</td>\n",
              "      <td>3.331299</td>\n",
              "    </tr>\n",
              "    <tr>\n",
              "      <th>10</th>\n",
              "      <td>ptratio</td>\n",
              "      <td>1.776290</td>\n",
              "    </tr>\n",
              "    <tr>\n",
              "      <th>11</th>\n",
              "      <td>black</td>\n",
              "      <td>1.318462</td>\n",
              "    </tr>\n",
              "    <tr>\n",
              "      <th>12</th>\n",
              "      <td>lstat</td>\n",
              "      <td>2.807207</td>\n",
              "    </tr>\n",
              "  </tbody>\n",
              "</table>\n",
              "</div>\n",
              "      <button class=\"colab-df-convert\" onclick=\"convertToInteractive('df-59a7ed2d-df09-4776-a269-2e27e1e14830')\"\n",
              "              title=\"Convert this dataframe to an interactive table.\"\n",
              "              style=\"display:none;\">\n",
              "        \n",
              "  <svg xmlns=\"http://www.w3.org/2000/svg\" height=\"24px\"viewBox=\"0 0 24 24\"\n",
              "       width=\"24px\">\n",
              "    <path d=\"M0 0h24v24H0V0z\" fill=\"none\"/>\n",
              "    <path d=\"M18.56 5.44l.94 2.06.94-2.06 2.06-.94-2.06-.94-.94-2.06-.94 2.06-2.06.94zm-11 1L8.5 8.5l.94-2.06 2.06-.94-2.06-.94L8.5 2.5l-.94 2.06-2.06.94zm10 10l.94 2.06.94-2.06 2.06-.94-2.06-.94-.94-2.06-.94 2.06-2.06.94z\"/><path d=\"M17.41 7.96l-1.37-1.37c-.4-.4-.92-.59-1.43-.59-.52 0-1.04.2-1.43.59L10.3 9.45l-7.72 7.72c-.78.78-.78 2.05 0 2.83L4 21.41c.39.39.9.59 1.41.59.51 0 1.02-.2 1.41-.59l7.78-7.78 2.81-2.81c.8-.78.8-2.07 0-2.86zM5.41 20L4 18.59l7.72-7.72 1.47 1.35L5.41 20z\"/>\n",
              "  </svg>\n",
              "      </button>\n",
              "      \n",
              "  <style>\n",
              "    .colab-df-container {\n",
              "      display:flex;\n",
              "      flex-wrap:wrap;\n",
              "      gap: 12px;\n",
              "    }\n",
              "\n",
              "    .colab-df-convert {\n",
              "      background-color: #E8F0FE;\n",
              "      border: none;\n",
              "      border-radius: 50%;\n",
              "      cursor: pointer;\n",
              "      display: none;\n",
              "      fill: #1967D2;\n",
              "      height: 32px;\n",
              "      padding: 0 0 0 0;\n",
              "      width: 32px;\n",
              "    }\n",
              "\n",
              "    .colab-df-convert:hover {\n",
              "      background-color: #E2EBFA;\n",
              "      box-shadow: 0px 1px 2px rgba(60, 64, 67, 0.3), 0px 1px 3px 1px rgba(60, 64, 67, 0.15);\n",
              "      fill: #174EA6;\n",
              "    }\n",
              "\n",
              "    [theme=dark] .colab-df-convert {\n",
              "      background-color: #3B4455;\n",
              "      fill: #D2E3FC;\n",
              "    }\n",
              "\n",
              "    [theme=dark] .colab-df-convert:hover {\n",
              "      background-color: #434B5C;\n",
              "      box-shadow: 0px 1px 3px 1px rgba(0, 0, 0, 0.15);\n",
              "      filter: drop-shadow(0px 1px 2px rgba(0, 0, 0, 0.3));\n",
              "      fill: #FFFFFF;\n",
              "    }\n",
              "  </style>\n",
              "\n",
              "      <script>\n",
              "        const buttonEl =\n",
              "          document.querySelector('#df-59a7ed2d-df09-4776-a269-2e27e1e14830 button.colab-df-convert');\n",
              "        buttonEl.style.display =\n",
              "          google.colab.kernel.accessAllowed ? 'block' : 'none';\n",
              "\n",
              "        async function convertToInteractive(key) {\n",
              "          const element = document.querySelector('#df-59a7ed2d-df09-4776-a269-2e27e1e14830');\n",
              "          const dataTable =\n",
              "            await google.colab.kernel.invokeFunction('convertToInteractive',\n",
              "                                                     [key], {});\n",
              "          if (!dataTable) return;\n",
              "\n",
              "          const docLinkHtml = 'Like what you see? Visit the ' +\n",
              "            '<a target=\"_blank\" href=https://colab.research.google.com/notebooks/data_table.ipynb>data table notebook</a>'\n",
              "            + ' to learn more about interactive tables.';\n",
              "          element.innerHTML = '';\n",
              "          dataTable['output_type'] = 'display_data';\n",
              "          await google.colab.output.renderOutput(dataTable, element);\n",
              "          const docLink = document.createElement('div');\n",
              "          docLink.innerHTML = docLinkHtml;\n",
              "          element.appendChild(docLink);\n",
              "        }\n",
              "      </script>\n",
              "    </div>\n",
              "  </div>\n",
              "  "
            ]
          },
          "metadata": {},
          "execution_count": 9
        }
      ]
    },
    {
      "cell_type": "markdown",
      "source": [
        "###3.models on training data (lambdas = [0.01, 0.1, 1, 10])\n"
      ],
      "metadata": {
        "id": "ZboRN2Yt0gr7"
      }
    },
    {
      "cell_type": "markdown",
      "source": [
        "###Ridge"
      ],
      "metadata": {
        "id": "4cUsR4CBSp_F"
      }
    },
    {
      "cell_type": "code",
      "source": [
        "from sklearn.linear_model import Ridge\n",
        "\n",
        "# train the model\n",
        "X_medv_train = feature_medv_train.to_numpy()\n",
        "y_medv_train = target_medv_train.to_numpy()\n",
        "y_medv_train = y_medv_train.reshape(len(y_medv_train),)\n",
        "\n",
        "# define the model\n",
        "ridge_reg_pointzeroone = Ridge(alpha=0.01, random_state=42)\n",
        "ridge_reg_pointone = Ridge(alpha=0.1, random_state=42)\n",
        "ridge_reg_one = Ridge(alpha=1, random_state=42)\n",
        "ridge_reg_ten = Ridge(alpha=10, random_state=42)\n",
        "\n",
        "# fit the model (training)\n",
        "ridge_reg_pointzeroone.fit(X_medv_train, y_medv_train)\n",
        "ridge_reg_pointone.fit(X_medv_train, y_medv_train)\n",
        "ridge_reg_one.fit(X_medv_train, y_medv_train)\n",
        "ridge_reg_ten.fit(X_medv_train, y_medv_train)"
      ],
      "metadata": {
        "colab": {
          "base_uri": "https://localhost:8080/"
        },
        "id": "kRllRR_aSbp8",
        "outputId": "1555dcd8-ece7-4302-9ffa-30027cd4939d"
      },
      "execution_count": null,
      "outputs": [
        {
          "output_type": "execute_result",
          "data": {
            "text/plain": [
              "Ridge(alpha=10, random_state=42)"
            ]
          },
          "metadata": {},
          "execution_count": 10
        }
      ]
    },
    {
      "cell_type": "markdown",
      "source": [
        "##Lasso"
      ],
      "metadata": {
        "id": "c7QmJ6hAZrY0"
      }
    },
    {
      "cell_type": "code",
      "source": [
        "from sklearn.linear_model import Lasso\n",
        "\n",
        "# train the model\n",
        "X_medv_train = feature_medv_train.to_numpy()\n",
        "y_medv_train = target_medv_train.to_numpy()\n",
        "y_medv_train = y_medv_train.reshape(len(y_medv_train),)\n",
        "\n",
        "# define the model\n",
        "lasso_reg_pointzeroone = Lasso(alpha=0.01, random_state=42)\n",
        "lasso_reg_pointone = Lasso(alpha=0.1, random_state=42)\n",
        "lasso_reg_one = Lasso(alpha=1, random_state=42)\n",
        "lasso_reg_ten = Lasso(alpha=10, random_state=42)\n",
        "\n",
        "# fit the model (training)\n",
        "lasso_reg_pointzeroone.fit(X_medv_train, y_medv_train)\n",
        "lasso_reg_pointone.fit(X_medv_train, y_medv_train)\n",
        "lasso_reg_one.fit(X_medv_train, y_medv_train)\n",
        "lasso_reg_ten.fit(X_medv_train, y_medv_train)"
      ],
      "metadata": {
        "colab": {
          "base_uri": "https://localhost:8080/"
        },
        "id": "r2HPNxK5Zqts",
        "outputId": "71fe62e7-bdef-4dfe-e385-5e4a4d2f4f06"
      },
      "execution_count": null,
      "outputs": [
        {
          "output_type": "execute_result",
          "data": {
            "text/plain": [
              "Lasso(alpha=10, random_state=42)"
            ]
          },
          "metadata": {},
          "execution_count": 11
        }
      ]
    },
    {
      "cell_type": "markdown",
      "source": [
        "### 4. Best Lambda from the validation set"
      ],
      "metadata": {
        "id": "NPr6Y9HXag44"
      }
    },
    {
      "cell_type": "markdown",
      "source": [
        "### a."
      ],
      "metadata": {
        "id": "4kyHVbkbbBG1"
      }
    },
    {
      "cell_type": "code",
      "source": [
        "from sklearn.metrics import mean_squared_error\n",
        "\n",
        "X_medv_validation = feature_medv_validation.to_numpy()\n",
        "y_medv_validation = target_medv_validation.to_numpy()\n",
        "y_medv_validation = y_medv_validation.reshape(len(y_medv_validation),)\n",
        "\n",
        "alphas = [0.01, 0.1, 1., 10]\n",
        "models = [ridge_reg_pointzeroone,\n",
        "          ridge_reg_pointone,\n",
        "          ridge_reg_one,\n",
        "          ridge_reg_ten]\n",
        "\n",
        "for model, alpha in zip(models, alphas):\n",
        "    y_predict_validation = model.predict(X_medv_validation)\n",
        "    rmse = np.sqrt(mean_squared_error(y_medv_validation,y_predict_validation))\n",
        "    print(f'RMSE of Ridge regression model with alpha = {alpha} is {rmse}')"
      ],
      "metadata": {
        "colab": {
          "base_uri": "https://localhost:8080/"
        },
        "id": "72unZfGFa3_v",
        "outputId": "9f20e5db-b318-498a-a36f-134c5141747e"
      },
      "execution_count": null,
      "outputs": [
        {
          "output_type": "stream",
          "name": "stdout",
          "text": [
            "RMSE of Ridge regression model with alpha = 0.01 is 4.960676932957843\n",
            "RMSE of Ridge regression model with alpha = 0.1 is 4.949412535122791\n",
            "RMSE of Ridge regression model with alpha = 1.0 is 4.912351371579991\n",
            "RMSE of Ridge regression model with alpha = 10 is 4.871717983886228\n"
          ]
        }
      ]
    },
    {
      "cell_type": "markdown",
      "source": [
        "##We can see that Ridge with alpha=10, has the smalles RMSE (The best model)"
      ],
      "metadata": {
        "id": "O4cZAupMxHTI"
      }
    },
    {
      "cell_type": "code",
      "source": [
        "from sklearn.metrics import mean_squared_error\n",
        "\n",
        "X_medv_validation = feature_medv_validation.to_numpy()\n",
        "y_medv_validation = target_medv_validation.to_numpy()\n",
        "y_medv_validation = y_medv_validation.reshape(len(y_medv_validation),)\n",
        "\n",
        "alphas = [0.01, 0.1, 1., 10]\n",
        "models = [lasso_reg_pointzeroone,\n",
        "          lasso_reg_pointone,\n",
        "          lasso_reg_one,\n",
        "          lasso_reg_ten]\n",
        "\n",
        "for model, alpha in zip(models, alphas):\n",
        "    y_predict_validation = model.predict(X_medv_validation)\n",
        "    rmse = np.sqrt(mean_squared_error(y_medv_validation,y_predict_validation))\n",
        "    print(f'RMSE of Lasso regression model with alpha = {alpha} is {rmse}')"
      ],
      "metadata": {
        "colab": {
          "base_uri": "https://localhost:8080/"
        },
        "id": "hoIdaFcFa92d",
        "outputId": "cb708213-0dfd-4168-bfff-a25641969052"
      },
      "execution_count": null,
      "outputs": [
        {
          "output_type": "stream",
          "name": "stdout",
          "text": [
            "RMSE of Lasso regression model with alpha = 0.01 is 4.934105658639752\n",
            "RMSE of Lasso regression model with alpha = 0.1 is 4.907145314259478\n",
            "RMSE of Lasso regression model with alpha = 1.0 is 4.845855910636398\n",
            "RMSE of Lasso regression model with alpha = 10 is 5.426622694252769\n"
          ]
        }
      ]
    },
    {
      "cell_type": "markdown",
      "source": [
        "##We can see that Lasso with alpha=1.0, has the smalles RMSE (The best model)"
      ],
      "metadata": {
        "id": "LFsGvhr-xJjL"
      }
    },
    {
      "cell_type": "markdown",
      "source": [
        "## b .Model Evaluation"
      ],
      "metadata": {
        "id": "Wavrp-X13cBE"
      }
    },
    {
      "cell_type": "code",
      "source": [
        "ridge_best = ridge_reg_ten\n",
        "\n",
        "coef_df = pd.DataFrame({\n",
        "    'feature':['intercept'] + feature_medv_train.columns.tolist(),\n",
        "    'coefficient':[ridge_best.intercept_] + list(ridge_best.coef_)\n",
        "})\n",
        "\n",
        "coef_df"
      ],
      "metadata": {
        "colab": {
          "base_uri": "https://localhost:8080/",
          "height": 457
        },
        "id": "1zo0Xr893biX",
        "outputId": "3dab024b-6ae2-45a5-96a3-c6915bd994a0"
      },
      "execution_count": null,
      "outputs": [
        {
          "output_type": "execute_result",
          "data": {
            "text/plain": [
              "      feature  coefficient\n",
              "0   intercept    15.064666\n",
              "1        crim    -0.071408\n",
              "2          zn     0.033030\n",
              "3       indus    -0.067858\n",
              "4        chas     1.955801\n",
              "5         nox    -1.568248\n",
              "6          rm     4.783168\n",
              "7         age    -0.011523\n",
              "8         dis    -1.260056\n",
              "9         tax    -0.001976\n",
              "10    ptratio    -0.697550\n",
              "11      black     0.012729\n",
              "12      lstat    -0.523827"
            ],
            "text/html": [
              "\n",
              "  <div id=\"df-c48139f1-ee9c-4609-93b5-7536f4ca9b5f\">\n",
              "    <div class=\"colab-df-container\">\n",
              "      <div>\n",
              "<style scoped>\n",
              "    .dataframe tbody tr th:only-of-type {\n",
              "        vertical-align: middle;\n",
              "    }\n",
              "\n",
              "    .dataframe tbody tr th {\n",
              "        vertical-align: top;\n",
              "    }\n",
              "\n",
              "    .dataframe thead th {\n",
              "        text-align: right;\n",
              "    }\n",
              "</style>\n",
              "<table border=\"1\" class=\"dataframe\">\n",
              "  <thead>\n",
              "    <tr style=\"text-align: right;\">\n",
              "      <th></th>\n",
              "      <th>feature</th>\n",
              "      <th>coefficient</th>\n",
              "    </tr>\n",
              "  </thead>\n",
              "  <tbody>\n",
              "    <tr>\n",
              "      <th>0</th>\n",
              "      <td>intercept</td>\n",
              "      <td>15.064666</td>\n",
              "    </tr>\n",
              "    <tr>\n",
              "      <th>1</th>\n",
              "      <td>crim</td>\n",
              "      <td>-0.071408</td>\n",
              "    </tr>\n",
              "    <tr>\n",
              "      <th>2</th>\n",
              "      <td>zn</td>\n",
              "      <td>0.033030</td>\n",
              "    </tr>\n",
              "    <tr>\n",
              "      <th>3</th>\n",
              "      <td>indus</td>\n",
              "      <td>-0.067858</td>\n",
              "    </tr>\n",
              "    <tr>\n",
              "      <th>4</th>\n",
              "      <td>chas</td>\n",
              "      <td>1.955801</td>\n",
              "    </tr>\n",
              "    <tr>\n",
              "      <th>5</th>\n",
              "      <td>nox</td>\n",
              "      <td>-1.568248</td>\n",
              "    </tr>\n",
              "    <tr>\n",
              "      <th>6</th>\n",
              "      <td>rm</td>\n",
              "      <td>4.783168</td>\n",
              "    </tr>\n",
              "    <tr>\n",
              "      <th>7</th>\n",
              "      <td>age</td>\n",
              "      <td>-0.011523</td>\n",
              "    </tr>\n",
              "    <tr>\n",
              "      <th>8</th>\n",
              "      <td>dis</td>\n",
              "      <td>-1.260056</td>\n",
              "    </tr>\n",
              "    <tr>\n",
              "      <th>9</th>\n",
              "      <td>tax</td>\n",
              "      <td>-0.001976</td>\n",
              "    </tr>\n",
              "    <tr>\n",
              "      <th>10</th>\n",
              "      <td>ptratio</td>\n",
              "      <td>-0.697550</td>\n",
              "    </tr>\n",
              "    <tr>\n",
              "      <th>11</th>\n",
              "      <td>black</td>\n",
              "      <td>0.012729</td>\n",
              "    </tr>\n",
              "    <tr>\n",
              "      <th>12</th>\n",
              "      <td>lstat</td>\n",
              "      <td>-0.523827</td>\n",
              "    </tr>\n",
              "  </tbody>\n",
              "</table>\n",
              "</div>\n",
              "      <button class=\"colab-df-convert\" onclick=\"convertToInteractive('df-c48139f1-ee9c-4609-93b5-7536f4ca9b5f')\"\n",
              "              title=\"Convert this dataframe to an interactive table.\"\n",
              "              style=\"display:none;\">\n",
              "        \n",
              "  <svg xmlns=\"http://www.w3.org/2000/svg\" height=\"24px\"viewBox=\"0 0 24 24\"\n",
              "       width=\"24px\">\n",
              "    <path d=\"M0 0h24v24H0V0z\" fill=\"none\"/>\n",
              "    <path d=\"M18.56 5.44l.94 2.06.94-2.06 2.06-.94-2.06-.94-.94-2.06-.94 2.06-2.06.94zm-11 1L8.5 8.5l.94-2.06 2.06-.94-2.06-.94L8.5 2.5l-.94 2.06-2.06.94zm10 10l.94 2.06.94-2.06 2.06-.94-2.06-.94-.94-2.06-.94 2.06-2.06.94z\"/><path d=\"M17.41 7.96l-1.37-1.37c-.4-.4-.92-.59-1.43-.59-.52 0-1.04.2-1.43.59L10.3 9.45l-7.72 7.72c-.78.78-.78 2.05 0 2.83L4 21.41c.39.39.9.59 1.41.59.51 0 1.02-.2 1.41-.59l7.78-7.78 2.81-2.81c.8-.78.8-2.07 0-2.86zM5.41 20L4 18.59l7.72-7.72 1.47 1.35L5.41 20z\"/>\n",
              "  </svg>\n",
              "      </button>\n",
              "      \n",
              "  <style>\n",
              "    .colab-df-container {\n",
              "      display:flex;\n",
              "      flex-wrap:wrap;\n",
              "      gap: 12px;\n",
              "    }\n",
              "\n",
              "    .colab-df-convert {\n",
              "      background-color: #E8F0FE;\n",
              "      border: none;\n",
              "      border-radius: 50%;\n",
              "      cursor: pointer;\n",
              "      display: none;\n",
              "      fill: #1967D2;\n",
              "      height: 32px;\n",
              "      padding: 0 0 0 0;\n",
              "      width: 32px;\n",
              "    }\n",
              "\n",
              "    .colab-df-convert:hover {\n",
              "      background-color: #E2EBFA;\n",
              "      box-shadow: 0px 1px 2px rgba(60, 64, 67, 0.3), 0px 1px 3px 1px rgba(60, 64, 67, 0.15);\n",
              "      fill: #174EA6;\n",
              "    }\n",
              "\n",
              "    [theme=dark] .colab-df-convert {\n",
              "      background-color: #3B4455;\n",
              "      fill: #D2E3FC;\n",
              "    }\n",
              "\n",
              "    [theme=dark] .colab-df-convert:hover {\n",
              "      background-color: #434B5C;\n",
              "      box-shadow: 0px 1px 3px 1px rgba(0, 0, 0, 0.15);\n",
              "      filter: drop-shadow(0px 1px 2px rgba(0, 0, 0, 0.3));\n",
              "      fill: #FFFFFF;\n",
              "    }\n",
              "  </style>\n",
              "\n",
              "      <script>\n",
              "        const buttonEl =\n",
              "          document.querySelector('#df-c48139f1-ee9c-4609-93b5-7536f4ca9b5f button.colab-df-convert');\n",
              "        buttonEl.style.display =\n",
              "          google.colab.kernel.accessAllowed ? 'block' : 'none';\n",
              "\n",
              "        async function convertToInteractive(key) {\n",
              "          const element = document.querySelector('#df-c48139f1-ee9c-4609-93b5-7536f4ca9b5f');\n",
              "          const dataTable =\n",
              "            await google.colab.kernel.invokeFunction('convertToInteractive',\n",
              "                                                     [key], {});\n",
              "          if (!dataTable) return;\n",
              "\n",
              "          const docLinkHtml = 'Like what you see? Visit the ' +\n",
              "            '<a target=\"_blank\" href=https://colab.research.google.com/notebooks/data_table.ipynb>data table notebook</a>'\n",
              "            + ' to learn more about interactive tables.';\n",
              "          element.innerHTML = '';\n",
              "          dataTable['output_type'] = 'display_data';\n",
              "          await google.colab.output.renderOutput(dataTable, element);\n",
              "          const docLink = document.createElement('div');\n",
              "          docLink.innerHTML = docLinkHtml;\n",
              "          element.appendChild(docLink);\n",
              "        }\n",
              "      </script>\n",
              "    </div>\n",
              "  </div>\n",
              "  "
            ]
          },
          "metadata": {},
          "execution_count": 14
        }
      ]
    },
    {
      "cell_type": "code",
      "source": [
        "lasso_best = lasso_reg_one\n",
        "\n",
        "coef_df = pd.DataFrame({\n",
        "    'feature':['intercept'] + feature_medv_train.columns.tolist(),\n",
        "    'coefficient':[lasso_best.intercept_] + list(lasso_best.coef_)\n",
        "})\n",
        "\n",
        "coef_df"
      ],
      "metadata": {
        "colab": {
          "base_uri": "https://localhost:8080/",
          "height": 457
        },
        "id": "rhG1RWw-Vri2",
        "outputId": "a2e39fd2-8f7d-4a15-ebed-6c2903bd5198"
      },
      "execution_count": null,
      "outputs": [
        {
          "output_type": "execute_result",
          "data": {
            "text/plain": [
              "      feature  coefficient\n",
              "0   intercept    25.823435\n",
              "1        crim    -0.041076\n",
              "2          zn     0.025273\n",
              "3       indus    -0.000000\n",
              "4        chas     0.000000\n",
              "5         nox    -0.000000\n",
              "6          rm     2.504122\n",
              "7         age     0.022055\n",
              "8         dis    -0.599362\n",
              "9         tax    -0.002994\n",
              "10    ptratio    -0.666222\n",
              "11      black     0.011400\n",
              "12      lstat    -0.712433"
            ],
            "text/html": [
              "\n",
              "  <div id=\"df-43c02afc-ffef-4adb-8c41-225f59b8b60a\">\n",
              "    <div class=\"colab-df-container\">\n",
              "      <div>\n",
              "<style scoped>\n",
              "    .dataframe tbody tr th:only-of-type {\n",
              "        vertical-align: middle;\n",
              "    }\n",
              "\n",
              "    .dataframe tbody tr th {\n",
              "        vertical-align: top;\n",
              "    }\n",
              "\n",
              "    .dataframe thead th {\n",
              "        text-align: right;\n",
              "    }\n",
              "</style>\n",
              "<table border=\"1\" class=\"dataframe\">\n",
              "  <thead>\n",
              "    <tr style=\"text-align: right;\">\n",
              "      <th></th>\n",
              "      <th>feature</th>\n",
              "      <th>coefficient</th>\n",
              "    </tr>\n",
              "  </thead>\n",
              "  <tbody>\n",
              "    <tr>\n",
              "      <th>0</th>\n",
              "      <td>intercept</td>\n",
              "      <td>25.823435</td>\n",
              "    </tr>\n",
              "    <tr>\n",
              "      <th>1</th>\n",
              "      <td>crim</td>\n",
              "      <td>-0.041076</td>\n",
              "    </tr>\n",
              "    <tr>\n",
              "      <th>2</th>\n",
              "      <td>zn</td>\n",
              "      <td>0.025273</td>\n",
              "    </tr>\n",
              "    <tr>\n",
              "      <th>3</th>\n",
              "      <td>indus</td>\n",
              "      <td>-0.000000</td>\n",
              "    </tr>\n",
              "    <tr>\n",
              "      <th>4</th>\n",
              "      <td>chas</td>\n",
              "      <td>0.000000</td>\n",
              "    </tr>\n",
              "    <tr>\n",
              "      <th>5</th>\n",
              "      <td>nox</td>\n",
              "      <td>-0.000000</td>\n",
              "    </tr>\n",
              "    <tr>\n",
              "      <th>6</th>\n",
              "      <td>rm</td>\n",
              "      <td>2.504122</td>\n",
              "    </tr>\n",
              "    <tr>\n",
              "      <th>7</th>\n",
              "      <td>age</td>\n",
              "      <td>0.022055</td>\n",
              "    </tr>\n",
              "    <tr>\n",
              "      <th>8</th>\n",
              "      <td>dis</td>\n",
              "      <td>-0.599362</td>\n",
              "    </tr>\n",
              "    <tr>\n",
              "      <th>9</th>\n",
              "      <td>tax</td>\n",
              "      <td>-0.002994</td>\n",
              "    </tr>\n",
              "    <tr>\n",
              "      <th>10</th>\n",
              "      <td>ptratio</td>\n",
              "      <td>-0.666222</td>\n",
              "    </tr>\n",
              "    <tr>\n",
              "      <th>11</th>\n",
              "      <td>black</td>\n",
              "      <td>0.011400</td>\n",
              "    </tr>\n",
              "    <tr>\n",
              "      <th>12</th>\n",
              "      <td>lstat</td>\n",
              "      <td>-0.712433</td>\n",
              "    </tr>\n",
              "  </tbody>\n",
              "</table>\n",
              "</div>\n",
              "      <button class=\"colab-df-convert\" onclick=\"convertToInteractive('df-43c02afc-ffef-4adb-8c41-225f59b8b60a')\"\n",
              "              title=\"Convert this dataframe to an interactive table.\"\n",
              "              style=\"display:none;\">\n",
              "        \n",
              "  <svg xmlns=\"http://www.w3.org/2000/svg\" height=\"24px\"viewBox=\"0 0 24 24\"\n",
              "       width=\"24px\">\n",
              "    <path d=\"M0 0h24v24H0V0z\" fill=\"none\"/>\n",
              "    <path d=\"M18.56 5.44l.94 2.06.94-2.06 2.06-.94-2.06-.94-.94-2.06-.94 2.06-2.06.94zm-11 1L8.5 8.5l.94-2.06 2.06-.94-2.06-.94L8.5 2.5l-.94 2.06-2.06.94zm10 10l.94 2.06.94-2.06 2.06-.94-2.06-.94-.94-2.06-.94 2.06-2.06.94z\"/><path d=\"M17.41 7.96l-1.37-1.37c-.4-.4-.92-.59-1.43-.59-.52 0-1.04.2-1.43.59L10.3 9.45l-7.72 7.72c-.78.78-.78 2.05 0 2.83L4 21.41c.39.39.9.59 1.41.59.51 0 1.02-.2 1.41-.59l7.78-7.78 2.81-2.81c.8-.78.8-2.07 0-2.86zM5.41 20L4 18.59l7.72-7.72 1.47 1.35L5.41 20z\"/>\n",
              "  </svg>\n",
              "      </button>\n",
              "      \n",
              "  <style>\n",
              "    .colab-df-container {\n",
              "      display:flex;\n",
              "      flex-wrap:wrap;\n",
              "      gap: 12px;\n",
              "    }\n",
              "\n",
              "    .colab-df-convert {\n",
              "      background-color: #E8F0FE;\n",
              "      border: none;\n",
              "      border-radius: 50%;\n",
              "      cursor: pointer;\n",
              "      display: none;\n",
              "      fill: #1967D2;\n",
              "      height: 32px;\n",
              "      padding: 0 0 0 0;\n",
              "      width: 32px;\n",
              "    }\n",
              "\n",
              "    .colab-df-convert:hover {\n",
              "      background-color: #E2EBFA;\n",
              "      box-shadow: 0px 1px 2px rgba(60, 64, 67, 0.3), 0px 1px 3px 1px rgba(60, 64, 67, 0.15);\n",
              "      fill: #174EA6;\n",
              "    }\n",
              "\n",
              "    [theme=dark] .colab-df-convert {\n",
              "      background-color: #3B4455;\n",
              "      fill: #D2E3FC;\n",
              "    }\n",
              "\n",
              "    [theme=dark] .colab-df-convert:hover {\n",
              "      background-color: #434B5C;\n",
              "      box-shadow: 0px 1px 3px 1px rgba(0, 0, 0, 0.15);\n",
              "      filter: drop-shadow(0px 1px 2px rgba(0, 0, 0, 0.3));\n",
              "      fill: #FFFFFF;\n",
              "    }\n",
              "  </style>\n",
              "\n",
              "      <script>\n",
              "        const buttonEl =\n",
              "          document.querySelector('#df-43c02afc-ffef-4adb-8c41-225f59b8b60a button.colab-df-convert');\n",
              "        buttonEl.style.display =\n",
              "          google.colab.kernel.accessAllowed ? 'block' : 'none';\n",
              "\n",
              "        async function convertToInteractive(key) {\n",
              "          const element = document.querySelector('#df-43c02afc-ffef-4adb-8c41-225f59b8b60a');\n",
              "          const dataTable =\n",
              "            await google.colab.kernel.invokeFunction('convertToInteractive',\n",
              "                                                     [key], {});\n",
              "          if (!dataTable) return;\n",
              "\n",
              "          const docLinkHtml = 'Like what you see? Visit the ' +\n",
              "            '<a target=\"_blank\" href=https://colab.research.google.com/notebooks/data_table.ipynb>data table notebook</a>'\n",
              "            + ' to learn more about interactive tables.';\n",
              "          element.innerHTML = '';\n",
              "          dataTable['output_type'] = 'display_data';\n",
              "          await google.colab.output.renderOutput(dataTable, element);\n",
              "          const docLink = document.createElement('div');\n",
              "          docLink.innerHTML = docLinkHtml;\n",
              "          element.appendChild(docLink);\n",
              "        }\n",
              "      </script>\n",
              "    </div>\n",
              "  </div>\n",
              "  "
            ]
          },
          "metadata": {},
          "execution_count": 15
        }
      ]
    },
    {
      "cell_type": "markdown",
      "source": [
        "### Diagnostic Study\n",
        "Not mandatory ( TIDAK WAJIB )"
      ],
      "metadata": {
        "id": "wpPwnGm13uBh"
      }
    },
    {
      "cell_type": "markdown",
      "source": [
        "##Ridge"
      ],
      "metadata": {
        "id": "_p7PF4dHxWGk"
      }
    },
    {
      "cell_type": "code",
      "source": [
        "from sklearn.metrics import r2_score\n",
        "\n",
        "y_predict_train = ridge_best.predict(X_medv_train)\n",
        "\n",
        "print('R-squared for training data is {}'.format(r2_score(y_medv_train, y_predict_train)))"
      ],
      "metadata": {
        "colab": {
          "base_uri": "https://localhost:8080/"
        },
        "id": "QZ4SRqqS3f0R",
        "outputId": "7596313b-4289-4a97-99bb-a78439b840ed"
      },
      "execution_count": null,
      "outputs": [
        {
          "output_type": "stream",
          "name": "stdout",
          "text": [
            "R-squared for training data is 0.748587526366982\n"
          ]
        }
      ]
    },
    {
      "cell_type": "code",
      "source": [
        "# calculate residuals\n",
        "residual = y_medv_train - y_predict_train\n",
        "\n",
        "# prepare dataframe\n",
        "# 1 predictor --> predictor VS residual\n",
        "df_resid = pd.DataFrame({\n",
        "    'predicted_value': y_predict_train,\n",
        "    'residual': residual\n",
        "})\n",
        "\n",
        "# residual plot\n",
        "sns.scatterplot(data=df_resid, x=\"predicted_value\", y=\"residual\")\n",
        "plt.axhline(0)\n",
        "plt.show()"
      ],
      "metadata": {
        "colab": {
          "base_uri": "https://localhost:8080/",
          "height": 280
        },
        "id": "7rFsm3N_3y1q",
        "outputId": "eec69ced-bea1-4cf7-ae33-fa728036b98a"
      },
      "execution_count": null,
      "outputs": [
        {
          "output_type": "display_data",
          "data": {
            "text/plain": [
              "<Figure size 432x288 with 1 Axes>"
            ],
            "image/png": "[encoded data removed]"
          },
          "metadata": {
            "needs_background": "light"
          }
        }
      ]
    },
    {
      "cell_type": "markdown",
      "source": [
        "##lasso"
      ],
      "metadata": {
        "id": "dOa61H9TxXgN"
      }
    },
    {
      "cell_type": "code",
      "source": [
        "from sklearn.metrics import r2_score\n",
        "\n",
        "y_predict_train = lasso_best.predict(X_medv_train)\n",
        "\n",
        "print('R-squared for training data is {}'.format(r2_score(y_medv_train, y_predict_train)))"
      ],
      "metadata": {
        "colab": {
          "base_uri": "https://localhost:8080/"
        },
        "id": "2u8gl5tMc6lG",
        "outputId": "9e986909-8a8b-40cb-8131-4a5d89f3619b"
      },
      "execution_count": null,
      "outputs": [
        {
          "output_type": "stream",
          "name": "stdout",
          "text": [
            "R-squared for training data is 0.7056815963218595\n"
          ]
        }
      ]
    },
    {
      "cell_type": "code",
      "source": [
        "# calculate residuals\n",
        "residual = y_medv_train - y_predict_train\n",
        "\n",
        "# prepare dataframe\n",
        "# 1 predictor --> predictor VS residual\n",
        "df_resid = pd.DataFrame({\n",
        "    'predicted_value': y_predict_train,\n",
        "    'residual': residual\n",
        "})\n",
        "\n",
        "# residual plot\n",
        "sns.scatterplot(data=df_resid, x=\"predicted_value\", y=\"residual\")\n",
        "plt.axhline(0)\n",
        "plt.show()"
      ],
      "metadata": {
        "colab": {
          "base_uri": "https://localhost:8080/",
          "height": 280
        },
        "id": "VoDUrQ_8c_Vi",
        "outputId": "b23682cf-fc36-43a7-884a-d80a74bbfbd4"
      },
      "execution_count": null,
      "outputs": [
        {
          "output_type": "display_data",
          "data": {
            "text/plain": [
              "<Figure size 432x288 with 1 Axes>"
            ],
            "image/png": "[encoded data removed]"
          },
          "metadata": {
            "needs_background": "light"
          }
        }
      ]
    },
    {
      "cell_type": "markdown",
      "source": [
        "##Training Error"
      ],
      "metadata": {
        "id": "YZGeu61S34If"
      }
    },
    {
      "cell_type": "markdown",
      "source": [
        "###RIdge"
      ],
      "metadata": {
        "id": "wg4jpzePvm9x"
      }
    },
    {
      "cell_type": "code",
      "source": [
        "# prepare prediction result on train data\n",
        "y_predict_train = ridge_best.predict(X_medv_train)"
      ],
      "metadata": {
        "id": "OLcaFRkd36Qg"
      },
      "execution_count": null,
      "outputs": []
    },
    {
      "cell_type": "code",
      "source": [
        "from sklearn.metrics import mean_squared_error\n",
        "from sklearn.metrics import mean_absolute_error\n",
        "from sklearn.metrics import mean_absolute_percentage_error\n",
        "\n",
        "print('RMSE for training data is {}'.format(np.sqrt(mean_squared_error(y_medv_train, y_predict_train))))\n",
        "print('MAE for training data is {}'.format(mean_absolute_error(y_medv_train, y_predict_train)))\n",
        "print('MAPE for training data is {}'.format(mean_absolute_percentage_error(y_medv_train, y_predict_train)))"
      ],
      "metadata": {
        "colab": {
          "base_uri": "https://localhost:8080/"
        },
        "id": "GQeAXSA639LB",
        "outputId": "7b79913f-dab8-4c6e-9e90-74850c944d74"
      },
      "execution_count": null,
      "outputs": [
        {
          "output_type": "stream",
          "name": "stdout",
          "text": [
            "RMSE for training data is 4.778640361040111\n",
            "MAE for training data is 3.3776762058865626\n",
            "MAPE for training data is 0.16868073663359498\n"
          ]
        }
      ]
    },
    {
      "cell_type": "markdown",
      "source": [
        "##Testing Error"
      ],
      "metadata": {
        "id": "g6cpc1cq4BXk"
      }
    },
    {
      "cell_type": "code",
      "source": [
        "# prepare prediction result on test data\n",
        "X_medv_test = feature_medv_test.to_numpy()\n",
        "y_predict_test = ridge_best.predict(X_medv_test)\n",
        "\n",
        "# ground truth target\n",
        "y_medv_test = target_medv_test.to_numpy()\n",
        "y_medv_test = y_medv_test.reshape(len(y_medv_test),)"
      ],
      "metadata": {
        "id": "nsfYsP114DRR"
      },
      "execution_count": null,
      "outputs": []
    },
    {
      "cell_type": "code",
      "source": [
        "from sklearn.metrics import mean_squared_error\n",
        "from sklearn.metrics import mean_absolute_error\n",
        "from sklearn.metrics import mean_absolute_percentage_error\n",
        "\n",
        "print('RMSE for testing data is {}'.format(np.sqrt(mean_squared_error(y_medv_test, y_predict_test))))\n",
        "print('MAE for testing data is {}'.format(mean_absolute_error(y_medv_test, y_predict_test)))\n",
        "print('MAPE for testing data is {}'.format(mean_absolute_percentage_error(y_medv_test, y_predict_test)))"
      ],
      "metadata": {
        "colab": {
          "base_uri": "https://localhost:8080/"
        },
        "id": "6Pj5sDT44FoD",
        "outputId": "740c1023-e3f1-487c-f8c9-0149c7ce7976"
      },
      "execution_count": null,
      "outputs": [
        {
          "output_type": "stream",
          "name": "stdout",
          "text": [
            "RMSE for testing data is 5.158908333657057\n",
            "MAE for testing data is 3.2444816457044965\n",
            "MAPE for testing data is 0.17618402626767926\n"
          ]
        }
      ]
    },
    {
      "cell_type": "code",
      "source": [
        "from sklearn.metrics import mean_absolute_error\n",
        "from sklearn.metrics import mean_absolute_percentage_error\n",
        "\n",
        "mean_absolute_error(y_medv_test, y_predict_test)\n",
        "mean_absolute_percentage_error(y_medv_test, y_predict_test)"
      ],
      "metadata": {
        "colab": {
          "base_uri": "https://localhost:8080/"
        },
        "id": "hcCE3Bwl4MOj",
        "outputId": "4a90c08e-53f2-4b1a-e11a-71c157af0b34"
      },
      "execution_count": null,
      "outputs": [
        {
          "output_type": "execute_result",
          "data": {
            "text/plain": [
              "0.17618402626767926"
            ]
          },
          "metadata": {},
          "execution_count": 24
        }
      ]
    },
    {
      "cell_type": "markdown",
      "source": [
        "##Ridge Regression menggunakan alpha 10 , MAPE pada testing error : 17,6 % cukup baik dikarenakan dibawah 30% kriteria. Nilai MAE rata-rata pada testing error menyimpang3.24 dari data medv. Nilai MAPE pada testing error dan training error tidak beda jaug jadi tidak overfit "
      ],
      "metadata": {
        "id": "6wiz6_kpytF9"
      }
    },
    {
      "cell_type": "markdown",
      "source": [
        "###Lasso"
      ],
      "metadata": {
        "id": "-720ziVSvssl"
      }
    },
    {
      "cell_type": "markdown",
      "source": [
        "##Training error\n"
      ],
      "metadata": {
        "id": "C4_Q00Ylvx0Y"
      }
    },
    {
      "cell_type": "code",
      "source": [
        "# prepare prediction result on train data\n",
        "y_predict_train = lasso_best.predict(X_medv_train)"
      ],
      "metadata": {
        "id": "ophLopgJvuxU"
      },
      "execution_count": null,
      "outputs": []
    },
    {
      "cell_type": "code",
      "source": [
        "from sklearn.metrics import mean_squared_error\n",
        "from sklearn.metrics import mean_absolute_error\n",
        "from sklearn.metrics import mean_absolute_percentage_error\n",
        "\n",
        "print('RMSE for training data is {}'.format(np.sqrt(mean_squared_error(y_medv_train, y_predict_train))))\n",
        "print('MAE for training data is {}'.format(mean_absolute_error(y_medv_train, y_predict_train)))\n",
        "print('MAPE for training data is {}'.format(mean_absolute_percentage_error(y_medv_train, y_predict_train)))"
      ],
      "metadata": {
        "colab": {
          "base_uri": "https://localhost:8080/"
        },
        "id": "p4k297vnwMpg",
        "outputId": "97cfc3c2-c97e-4f76-edc3-7eabd1e29f0c"
      },
      "execution_count": null,
      "outputs": [
        {
          "output_type": "stream",
          "name": "stdout",
          "text": [
            "RMSE for training data is 5.170346463296143\n",
            "MAE for training data is 3.6858416211465084\n",
            "MAPE for training data is 0.1749128202363825\n"
          ]
        }
      ]
    },
    {
      "cell_type": "markdown",
      "source": [
        "###Testing Error"
      ],
      "metadata": {
        "id": "SRxM9F7Oxkv7"
      }
    },
    {
      "cell_type": "code",
      "source": [
        "# prepare prediction result on test data\n",
        "X_medv_test = feature_medv_test.to_numpy()\n",
        "y_predict_test = lasso_best.predict(X_medv_test)\n",
        "\n",
        "# ground truth target\n",
        "y_medv_test = target_medv_test.to_numpy()\n",
        "y_medv_test = y_medv_test.reshape(len(y_medv_test),)"
      ],
      "metadata": {
        "id": "BVo0SE-ixmEv"
      },
      "execution_count": null,
      "outputs": []
    },
    {
      "cell_type": "code",
      "source": [
        "from sklearn.metrics import mean_squared_error\n",
        "from sklearn.metrics import mean_absolute_error\n",
        "from sklearn.metrics import mean_absolute_percentage_error\n",
        "\n",
        "print('RMSE for testing data is {}'.format(np.sqrt(mean_squared_error(y_medv_test, y_predict_test))))\n",
        "print('MAE for testing data is {}'.format(mean_absolute_error(y_medv_test, y_predict_test)))\n",
        "print('MAPE for testing data is {}'.format(mean_absolute_percentage_error(y_medv_test, y_predict_test)))"
      ],
      "metadata": {
        "colab": {
          "base_uri": "https://localhost:8080/"
        },
        "id": "RkUJERi6xxu0",
        "outputId": "6c9c0d81-fcbe-4f7a-e70d-b6700c9138ad"
      },
      "execution_count": null,
      "outputs": [
        {
          "output_type": "stream",
          "name": "stdout",
          "text": [
            "RMSE for testing data is 5.125494212319777\n",
            "MAE for testing data is 3.3980507105960682\n",
            "MAPE for testing data is 0.17856606338732206\n"
          ]
        }
      ]
    },
    {
      "cell_type": "code",
      "source": [
        "from sklearn.metrics import mean_absolute_error\n",
        "from sklearn.metrics import mean_absolute_percentage_error\n",
        "\n",
        "mean_absolute_error(y_medv_test, y_predict_test)\n",
        "mean_absolute_percentage_error(y_medv_test, y_predict_test)"
      ],
      "metadata": {
        "colab": {
          "base_uri": "https://localhost:8080/"
        },
        "id": "Qizh2D7Xx19Y",
        "outputId": "2b291365-64b2-4d95-fcfa-687a945de58c"
      },
      "execution_count": null,
      "outputs": [
        {
          "output_type": "execute_result",
          "data": {
            "text/plain": [
              "0.17856606338732206"
            ]
          },
          "metadata": {},
          "execution_count": 29
        }
      ]
    },
    {
      "cell_type": "markdown",
      "source": [
        "Ridge Regression menggunakan alpha 1.0 , MAPE pada testing error : 17,8 % cukup baik dikarenakan dibawah 30% kriteria. Nilai MAE rata-rata pada testing error menyimpang3.39 dari data medv. Nilai MAPE pada testing error dan training error tidak beda jaug jadi tidak overfit "
      ],
      "metadata": {
        "id": "hsGYkHmlznNO"
      }
    }
  ]
}